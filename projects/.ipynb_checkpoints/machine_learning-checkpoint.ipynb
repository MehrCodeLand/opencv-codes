{
 "cells": [
  {
   "cell_type": "code",
   "execution_count": 30,
   "id": "82f7cd04-f608-4138-9a3b-185f889b2a87",
   "metadata": {},
   "outputs": [],
   "source": [
    "import pandas as pd\n",
    "import numpy as np \n",
    "import seaborn as sns \n",
    "from sklearn import datasets"
   ]
  },
  {
   "cell_type": "code",
   "execution_count": 34,
   "id": "c8b25478-c6ee-4b95-9a23-b38374683fa0",
   "metadata": {},
   "outputs": [],
   "source": [
    "\n",
    "\n",
    "df = pd.read_csv('../Datas/Advertising.csv')\n",
    "ds = datasets.load_diabetes()\n"
   ]
  },
  {
   "cell_type": "code",
   "execution_count": 44,
   "id": "5980ee78-a218-4e7d-8a56-126e26bdfd22",
   "metadata": {},
   "outputs": [
    {
     "data": {
      "text/plain": [
       "['age', 'sex', 'bmi', 'bp', 's1', 's2', 's3', 's4', 's5', 's6']"
      ]
     },
     "execution_count": 44,
     "metadata": {},
     "output_type": "execute_result"
    }
   ],
   "source": [
    "ds.feature_names"
   ]
  },
  {
   "cell_type": "code",
   "execution_count": 48,
   "id": "2f7836fe-5506-49f8-9849-f4ba1053502e",
   "metadata": {},
   "outputs": [],
   "source": [
    "X = ds.data\n",
    "Y = ds.target"
   ]
  },
  {
   "cell_type": "code",
   "execution_count": 50,
   "id": "3b205586-5ad3-41ad-9fd4-6579ffdcb88d",
   "metadata": {},
   "outputs": [
    {
     "data": {
      "text/plain": [
       "((442, 10), (442,))"
      ]
     },
     "execution_count": 50,
     "metadata": {},
     "output_type": "execute_result"
    }
   ],
   "source": [
    "X.shape , Y.shape"
   ]
  },
  {
   "cell_type": "code",
   "execution_count": 55,
   "id": "53347c23-8f76-44e5-bd54-2b0a15e0876a",
   "metadata": {},
   "outputs": [],
   "source": [
    "from sklearn.model_selection import train_test_split\n",
    "\n",
    "X_train , X_test , Y_train , Y_test = train_test_split(X , Y , test_size=0.2 , random_state=40)"
   ]
  },
  {
   "cell_type": "code",
   "execution_count": null,
   "id": "009eb42c-629d-47a4-afa5-5e0d0bfb6486",
   "metadata": {},
   "outputs": [],
   "source": []
  }
 ],
 "metadata": {
  "kernelspec": {
   "display_name": "Python 3 (ipykernel)",
   "language": "python",
   "name": "python3"
  },
  "language_info": {
   "codemirror_mode": {
    "name": "ipython",
    "version": 3
   },
   "file_extension": ".py",
   "mimetype": "text/x-python",
   "name": "python",
   "nbconvert_exporter": "python",
   "pygments_lexer": "ipython3",
   "version": "3.12.7"
  }
 },
 "nbformat": 4,
 "nbformat_minor": 5
}
