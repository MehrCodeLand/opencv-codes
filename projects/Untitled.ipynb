{
 "cells": [
  {
   "cell_type": "code",
   "execution_count": 4,
   "id": "fb4e263b-4817-45c5-b130-b1804cc5a8c8",
   "metadata": {},
   "outputs": [],
   "source": [
    "import cv2 as cv\n",
    "import matplotlib.pyplot as plt"
   ]
  },
  {
   "cell_type": "code",
   "execution_count": 10,
   "id": "5f522f7e-d3b5-4ed9-b650-b3ee79da322b",
   "metadata": {},
   "outputs": [],
   "source": [
    "image =cv.imread('../images/one.png')"
   ]
  },
  {
   "cell_type": "code",
   "execution_count": null,
   "id": "2546bc4e-67f3-4cbf-8c72-a760ef6b62eb",
   "metadata": {},
   "outputs": [],
   "source": [
    "cv.imshow('image' , image)\n",
    "cv.waitKey()\n",
    "cv.destroyAllWindows()"
   ]
  },
  {
   "cell_type": "code",
   "execution_count": null,
   "id": "327b6122-5ead-4a04-bb70-34cd7f2bf7cc",
   "metadata": {},
   "outputs": [],
   "source": []
  }
 ],
 "metadata": {
  "kernelspec": {
   "display_name": "Python 3 (ipykernel)",
   "language": "python",
   "name": "python3"
  },
  "language_info": {
   "codemirror_mode": {
    "name": "ipython",
    "version": 3
   },
   "file_extension": ".py",
   "mimetype": "text/x-python",
   "name": "python",
   "nbconvert_exporter": "python",
   "pygments_lexer": "ipython3",
   "version": "3.12.7"
  }
 },
 "nbformat": 4,
 "nbformat_minor": 5
}
