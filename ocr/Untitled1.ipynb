{
 "cells": [
  {
   "cell_type": "code",
   "execution_count": 5,
   "id": "24727aaf-34de-4952-a5bd-3361892dd8fc",
   "metadata": {},
   "outputs": [],
   "source": [
    "import easyocr as ec"
   ]
  },
  {
   "cell_type": "code",
   "execution_count": 7,
   "id": "8debbbc2-33cf-432f-9e74-79812c451e55",
   "metadata": {},
   "outputs": [],
   "source": [
    "reader = ec.Reader(['en'])"
   ]
  },
  {
   "cell_type": "code",
   "execution_count": 12,
   "id": "07290f9c-8e2d-4563-a5ba-769e08906bb9",
   "metadata": {},
   "outputs": [],
   "source": [
    "result = reader.readtext('hello.jpeg')"
   ]
  },
  {
   "cell_type": "code",
   "execution_count": 14,
   "id": "697dd3cf-2beb-41f1-8419-d008156d0c97",
   "metadata": {},
   "outputs": [
    {
     "data": {
      "text/plain": [
       "[([[38, 74], [319, 74], [319, 209], [38, 209]], 'HELLO', 0.9982356149812216)]"
      ]
     },
     "execution_count": 14,
     "metadata": {},
     "output_type": "execute_result"
    }
   ],
   "source": [
    "result"
   ]
  },
  {
   "cell_type": "code",
   "execution_count": null,
   "id": "af5e8081-c3b5-472e-a959-1440dc11ccc5",
   "metadata": {},
   "outputs": [],
   "source": []
  }
 ],
 "metadata": {
  "kernelspec": {
   "display_name": "Python 3 (ipykernel)",
   "language": "python",
   "name": "python3"
  },
  "language_info": {
   "codemirror_mode": {
    "name": "ipython",
    "version": 3
   },
   "file_extension": ".py",
   "mimetype": "text/x-python",
   "name": "python",
   "nbconvert_exporter": "python",
   "pygments_lexer": "ipython3",
   "version": "3.12.7"
  }
 },
 "nbformat": 4,
 "nbformat_minor": 5
}
